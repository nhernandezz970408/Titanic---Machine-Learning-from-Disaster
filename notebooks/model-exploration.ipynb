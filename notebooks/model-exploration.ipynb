{
 "cells": [
  {
   "cell_type": "markdown",
   "id": "1c7386f6",
   "metadata": {
    "papermill": {
     "duration": 0.004403,
     "end_time": "2024-12-28T16:10:26.468044",
     "exception": false,
     "start_time": "2024-12-28T16:10:26.463641",
     "status": "completed"
    },
    "tags": []
   },
   "source": [
    "# Titanic Disaster\n",
    "\n",
    "## Author: Nicolas Hernandez Zapata\n",
    "\n",
    "### Description\n",
    "Use machine learning to create a model that predicts which passengers survived the Titanic shipwreck.\n",
    "\n",
    "Model Exploration"
   ]
  },
  {
   "cell_type": "code",
   "execution_count": 1,
   "id": "f7b115b9",
   "metadata": {
    "_cell_guid": "b1076dfc-b9ad-4769-8c92-a6c4dae69d19",
    "_uuid": "8f2839f25d086af736a60e9eeb907d3b93b6e0e5",
    "execution": {
     "iopub.execute_input": "2024-12-28T16:10:26.477023Z",
     "iopub.status.busy": "2024-12-28T16:10:26.476622Z",
     "iopub.status.idle": "2024-12-28T16:10:28.654428Z",
     "shell.execute_reply": "2024-12-28T16:10:28.653504Z"
    },
    "papermill": {
     "duration": 2.184275,
     "end_time": "2024-12-28T16:10:28.656295",
     "exception": false,
     "start_time": "2024-12-28T16:10:26.472020",
     "status": "completed"
    },
    "tags": []
   },
   "outputs": [
    {
     "name": "stdout",
     "output_type": "stream",
     "text": [
      "/kaggle/input/titanic/train.csv\n",
      "/kaggle/input/titanic/test.csv\n",
      "/kaggle/input/titanic/gender_submission.csv\n"
     ]
    }
   ],
   "source": [
    "import numpy as np \n",
    "import pandas as pd \n",
    "from catboost import CatBoostClassifier, Pool\n",
    "import os\n",
    "from sklearn.model_selection import train_test_split\n",
    "from sklearn.metrics import classification_report\n",
    "import matplotlib.pyplot as plt\n",
    "\n",
    "for dirname, _, filenames in os.walk('/kaggle/input'):\n",
    "    for filename in filenames:\n",
    "        print(os.path.join(dirname, filename))"
   ]
  },
  {
   "cell_type": "markdown",
   "id": "2adfe5a9",
   "metadata": {
    "papermill": {
     "duration": 0.00332,
     "end_time": "2024-12-28T16:10:28.663544",
     "exception": false,
     "start_time": "2024-12-28T16:10:28.660224",
     "status": "completed"
    },
    "tags": []
   },
   "source": [
    "#### CatboostClassifier"
   ]
  },
  {
   "cell_type": "markdown",
   "id": "37fceeb9",
   "metadata": {
    "papermill": {
     "duration": 0.003324,
     "end_time": "2024-12-28T16:10:28.670338",
     "exception": false,
     "start_time": "2024-12-28T16:10:28.667014",
     "status": "completed"
    },
    "tags": []
   },
   "source": [
    "CatBoostClassifier is a machine learning algorithm based on gradient boosting over decision trees, specifically optimized for categorical features. It is known for its ease of use, high performance, and unique handling of categorical data without requiring extensive preprocessing.\n",
    "\n",
    "* CatBoost builds an ensemble of decision trees sequentially. Each tree attempts to correct the errors of the previous trees by minimizing a loss function.\n",
    "* CatBoost uses symmetric decision trees, where all splits at the same depth level are the same across all branches. This structure reduces overfitting and speeds up prediction times.\n",
    "* CatBoost uses ordered boosting, which involves creating random permutations of the data and training each decision tree on only the data points seen before the current observation in the permutation, reducing overfitting and improving model robustness\n",
    "##### When to use\n",
    "* Datasets with Many Categorical Features\n",
    "* To get fast training times"
   ]
  },
  {
   "cell_type": "code",
   "execution_count": 2,
   "id": "d8d0f6b7",
   "metadata": {
    "execution": {
     "iopub.execute_input": "2024-12-28T16:10:28.678665Z",
     "iopub.status.busy": "2024-12-28T16:10:28.678244Z",
     "iopub.status.idle": "2024-12-28T16:10:28.717902Z",
     "shell.execute_reply": "2024-12-28T16:10:28.716769Z"
    },
    "papermill": {
     "duration": 0.045675,
     "end_time": "2024-12-28T16:10:28.719580",
     "exception": false,
     "start_time": "2024-12-28T16:10:28.673905",
     "status": "completed"
    },
    "tags": []
   },
   "outputs": [
    {
     "name": "stdout",
     "output_type": "stream",
     "text": [
      "Lenght train_cat: 889\n"
     ]
    }
   ],
   "source": [
    "train = pd.read_csv(\"/kaggle/input/titanic/train.csv\")\n",
    "train_cat = train[[\"Survived\", \"Pclass\", \"Sex\", \"Embarked\"]].copy()\n",
    "#Embarked has 2 missing values so let's drop them\n",
    "train_cat.dropna(inplace = True)\n",
    "print(\"Lenght train_cat:\", len(train_cat))\n",
    "X_cat = train_cat.drop('Survived', axis=1)\n",
    "y_cat = train_cat['Survived']\n",
    "X_train, X_temp, y_train, y_temp = train_test_split(X_cat, y_cat, test_size=0.3, random_state=42) #Separate train set\n",
    "X_val, X_test, y_val, y_test = train_test_split(X_temp, y_temp, test_size=0.5, random_state=42) #Create validation and test set"
   ]
  },
  {
   "cell_type": "code",
   "execution_count": 3,
   "id": "d8c88f7b",
   "metadata": {
    "execution": {
     "iopub.execute_input": "2024-12-28T16:10:28.728179Z",
     "iopub.status.busy": "2024-12-28T16:10:28.727876Z",
     "iopub.status.idle": "2024-12-28T16:10:28.971385Z",
     "shell.execute_reply": "2024-12-28T16:10:28.970242Z"
    },
    "papermill": {
     "duration": 0.249476,
     "end_time": "2024-12-28T16:10:28.972895",
     "exception": false,
     "start_time": "2024-12-28T16:10:28.723419",
     "status": "completed"
    },
    "tags": []
   },
   "outputs": [
    {
     "name": "stdout",
     "output_type": "stream",
     "text": [
      "Learning rate set to 0.028182\n",
      "0:\tlearn: 0.7845659\ttest: 0.7819549\tbest: 0.7819549 (0)\ttotal: 54.1ms\tremaining: 54.1s\n",
      "1:\tlearn: 0.7845659\ttest: 0.7819549\tbest: 0.7819549 (0)\ttotal: 56.3ms\tremaining: 28.1s\n",
      "2:\tlearn: 0.7845659\ttest: 0.7819549\tbest: 0.7819549 (0)\ttotal: 57.8ms\tremaining: 19.2s\n",
      "3:\tlearn: 0.7845659\ttest: 0.7819549\tbest: 0.7819549 (0)\ttotal: 59.2ms\tremaining: 14.7s\n",
      "4:\tlearn: 0.7845659\ttest: 0.7819549\tbest: 0.7819549 (0)\ttotal: 60.9ms\tremaining: 12.1s\n",
      "5:\tlearn: 0.8135048\ttest: 0.8120301\tbest: 0.8120301 (5)\ttotal: 62.9ms\tremaining: 10.4s\n",
      "6:\tlearn: 0.8135048\ttest: 0.8120301\tbest: 0.8120301 (5)\ttotal: 64.5ms\tremaining: 9.15s\n",
      "7:\tlearn: 0.8135048\ttest: 0.8120301\tbest: 0.8120301 (5)\ttotal: 66ms\tremaining: 8.19s\n",
      "8:\tlearn: 0.8135048\ttest: 0.8120301\tbest: 0.8120301 (5)\ttotal: 67.3ms\tremaining: 7.42s\n",
      "9:\tlearn: 0.8135048\ttest: 0.8120301\tbest: 0.8120301 (5)\ttotal: 68.4ms\tremaining: 6.78s\n",
      "10:\tlearn: 0.8135048\ttest: 0.8120301\tbest: 0.8120301 (5)\ttotal: 69.7ms\tremaining: 6.27s\n",
      "11:\tlearn: 0.8135048\ttest: 0.8120301\tbest: 0.8120301 (5)\ttotal: 70.9ms\tremaining: 5.84s\n",
      "12:\tlearn: 0.8135048\ttest: 0.8120301\tbest: 0.8120301 (5)\ttotal: 72.2ms\tremaining: 5.48s\n",
      "13:\tlearn: 0.8135048\ttest: 0.8120301\tbest: 0.8120301 (5)\ttotal: 73.3ms\tremaining: 5.16s\n",
      "14:\tlearn: 0.8118971\ttest: 0.8120301\tbest: 0.8120301 (5)\ttotal: 74.8ms\tremaining: 4.91s\n",
      "15:\tlearn: 0.8135048\ttest: 0.8120301\tbest: 0.8120301 (5)\ttotal: 76.6ms\tremaining: 4.71s\n",
      "16:\tlearn: 0.8135048\ttest: 0.8120301\tbest: 0.8120301 (5)\ttotal: 78.3ms\tremaining: 4.53s\n",
      "17:\tlearn: 0.8135048\ttest: 0.8120301\tbest: 0.8120301 (5)\ttotal: 80ms\tremaining: 4.36s\n",
      "18:\tlearn: 0.8135048\ttest: 0.8120301\tbest: 0.8120301 (5)\ttotal: 81.1ms\tremaining: 4.18s\n",
      "19:\tlearn: 0.8135048\ttest: 0.8120301\tbest: 0.8120301 (5)\ttotal: 82.6ms\tremaining: 4.05s\n",
      "20:\tlearn: 0.8135048\ttest: 0.8120301\tbest: 0.8120301 (5)\ttotal: 84.2ms\tremaining: 3.92s\n",
      "21:\tlearn: 0.8135048\ttest: 0.8120301\tbest: 0.8120301 (5)\ttotal: 85.8ms\tremaining: 3.81s\n",
      "22:\tlearn: 0.8135048\ttest: 0.8120301\tbest: 0.8120301 (5)\ttotal: 87.3ms\tremaining: 3.71s\n",
      "23:\tlearn: 0.8135048\ttest: 0.8120301\tbest: 0.8120301 (5)\ttotal: 88.8ms\tremaining: 3.61s\n",
      "24:\tlearn: 0.8135048\ttest: 0.8120301\tbest: 0.8120301 (5)\ttotal: 90.1ms\tremaining: 3.51s\n",
      "25:\tlearn: 0.8135048\ttest: 0.8120301\tbest: 0.8120301 (5)\ttotal: 92.4ms\tremaining: 3.46s\n",
      "26:\tlearn: 0.8135048\ttest: 0.8120301\tbest: 0.8120301 (5)\ttotal: 94.2ms\tremaining: 3.39s\n",
      "27:\tlearn: 0.8135048\ttest: 0.8120301\tbest: 0.8120301 (5)\ttotal: 95.6ms\tremaining: 3.32s\n",
      "28:\tlearn: 0.8135048\ttest: 0.8120301\tbest: 0.8120301 (5)\ttotal: 97ms\tremaining: 3.25s\n",
      "29:\tlearn: 0.8135048\ttest: 0.8120301\tbest: 0.8120301 (5)\ttotal: 98.5ms\tremaining: 3.18s\n",
      "30:\tlearn: 0.8135048\ttest: 0.8120301\tbest: 0.8120301 (5)\ttotal: 100ms\tremaining: 3.13s\n",
      "31:\tlearn: 0.8135048\ttest: 0.8120301\tbest: 0.8120301 (5)\ttotal: 102ms\tremaining: 3.08s\n",
      "32:\tlearn: 0.8135048\ttest: 0.8120301\tbest: 0.8120301 (5)\ttotal: 103ms\tremaining: 3.02s\n",
      "33:\tlearn: 0.8135048\ttest: 0.8120301\tbest: 0.8120301 (5)\ttotal: 105ms\tremaining: 2.97s\n",
      "34:\tlearn: 0.8135048\ttest: 0.8120301\tbest: 0.8120301 (5)\ttotal: 106ms\tremaining: 2.92s\n",
      "35:\tlearn: 0.8135048\ttest: 0.8120301\tbest: 0.8120301 (5)\ttotal: 107ms\tremaining: 2.87s\n",
      "36:\tlearn: 0.8135048\ttest: 0.8120301\tbest: 0.8120301 (5)\ttotal: 109ms\tremaining: 2.82s\n",
      "37:\tlearn: 0.8135048\ttest: 0.8120301\tbest: 0.8120301 (5)\ttotal: 110ms\tremaining: 2.78s\n",
      "38:\tlearn: 0.8135048\ttest: 0.8120301\tbest: 0.8120301 (5)\ttotal: 112ms\tremaining: 2.75s\n",
      "39:\tlearn: 0.8135048\ttest: 0.8120301\tbest: 0.8120301 (5)\ttotal: 114ms\tremaining: 2.73s\n",
      "40:\tlearn: 0.8135048\ttest: 0.8120301\tbest: 0.8120301 (5)\ttotal: 116ms\tremaining: 2.71s\n",
      "41:\tlearn: 0.8135048\ttest: 0.8120301\tbest: 0.8120301 (5)\ttotal: 117ms\tremaining: 2.67s\n",
      "42:\tlearn: 0.8135048\ttest: 0.8120301\tbest: 0.8120301 (5)\ttotal: 118ms\tremaining: 2.63s\n",
      "43:\tlearn: 0.8135048\ttest: 0.8120301\tbest: 0.8120301 (5)\ttotal: 120ms\tremaining: 2.6s\n",
      "44:\tlearn: 0.8135048\ttest: 0.8120301\tbest: 0.8120301 (5)\ttotal: 121ms\tremaining: 2.57s\n",
      "45:\tlearn: 0.8135048\ttest: 0.8120301\tbest: 0.8120301 (5)\ttotal: 122ms\tremaining: 2.53s\n",
      "46:\tlearn: 0.8135048\ttest: 0.8120301\tbest: 0.8120301 (5)\ttotal: 123ms\tremaining: 2.5s\n",
      "47:\tlearn: 0.8135048\ttest: 0.8120301\tbest: 0.8120301 (5)\ttotal: 124ms\tremaining: 2.46s\n",
      "48:\tlearn: 0.8135048\ttest: 0.8120301\tbest: 0.8120301 (5)\ttotal: 126ms\tremaining: 2.44s\n",
      "49:\tlearn: 0.8135048\ttest: 0.8120301\tbest: 0.8120301 (5)\ttotal: 127ms\tremaining: 2.41s\n",
      "50:\tlearn: 0.8135048\ttest: 0.8120301\tbest: 0.8120301 (5)\ttotal: 128ms\tremaining: 2.39s\n",
      "51:\tlearn: 0.8135048\ttest: 0.8120301\tbest: 0.8120301 (5)\ttotal: 130ms\tremaining: 2.37s\n",
      "52:\tlearn: 0.8135048\ttest: 0.8120301\tbest: 0.8120301 (5)\ttotal: 132ms\tremaining: 2.35s\n",
      "53:\tlearn: 0.8135048\ttest: 0.8120301\tbest: 0.8120301 (5)\ttotal: 133ms\tremaining: 2.32s\n",
      "54:\tlearn: 0.8135048\ttest: 0.8120301\tbest: 0.8120301 (5)\ttotal: 134ms\tremaining: 2.31s\n",
      "55:\tlearn: 0.8135048\ttest: 0.8120301\tbest: 0.8120301 (5)\ttotal: 136ms\tremaining: 2.29s\n",
      "Stopped by overfitting detector  (50 iterations wait)\n",
      "\n",
      "bestTest = 0.8120300752\n",
      "bestIteration = 5\n",
      "\n",
      "Shrink model to first 6 iterations.\n"
     ]
    },
    {
     "data": {
      "text/plain": [
       "<catboost.core.CatBoostClassifier at 0x7c46a2d99f90>"
      ]
     },
     "execution_count": 3,
     "metadata": {},
     "output_type": "execute_result"
    }
   ],
   "source": [
    "cat_features =[\"Sex\", \"Embarked\"]\n",
    "train_pool = Pool(data=X_train, label=y_train, cat_features=cat_features)\n",
    "val_pool = Pool(data=X_val, label=y_val, cat_features=cat_features)\n",
    "#Pool is a data container that contains the training dataset, \n",
    "#along with optionally the target variable and details about the categorical features\n",
    "cat_model = CatBoostClassifier(eval_metric='Accuracy',\n",
    "                               random_seed=42,\n",
    "                               cat_features=cat_features,\n",
    "                               verbose=10,\n",
    "                               early_stopping_rounds=50\n",
    "                              )\n",
    "cat_model.fit(train_pool, eval_set=val_pool, verbose=True)"
   ]
  },
  {
   "cell_type": "code",
   "execution_count": 4,
   "id": "5c0b81b9",
   "metadata": {
    "execution": {
     "iopub.execute_input": "2024-12-28T16:10:28.982743Z",
     "iopub.status.busy": "2024-12-28T16:10:28.982426Z",
     "iopub.status.idle": "2024-12-28T16:10:28.996654Z",
     "shell.execute_reply": "2024-12-28T16:10:28.995491Z"
    },
    "papermill": {
     "duration": 0.020583,
     "end_time": "2024-12-28T16:10:28.998243",
     "exception": false,
     "start_time": "2024-12-28T16:10:28.977660",
     "status": "completed"
    },
    "tags": []
   },
   "outputs": [
    {
     "name": "stdout",
     "output_type": "stream",
     "text": [
      "              precision    recall  f1-score   support\n",
      "\n",
      "           0       0.78      0.94      0.85        81\n",
      "           1       0.86      0.58      0.70        53\n",
      "\n",
      "    accuracy                           0.80       134\n",
      "   macro avg       0.82      0.76      0.77       134\n",
      "weighted avg       0.81      0.80      0.79       134\n",
      "\n"
     ]
    }
   ],
   "source": [
    "y_pred = cat_model.predict(X_test)\n",
    "print(classification_report(y_test, y_pred))"
   ]
  },
  {
   "cell_type": "code",
   "execution_count": 5,
   "id": "51d5fede",
   "metadata": {
    "execution": {
     "iopub.execute_input": "2024-12-28T16:10:29.008181Z",
     "iopub.status.busy": "2024-12-28T16:10:29.007817Z",
     "iopub.status.idle": "2024-12-28T16:10:29.017491Z",
     "shell.execute_reply": "2024-12-28T16:10:29.016508Z"
    },
    "papermill": {
     "duration": 0.016456,
     "end_time": "2024-12-28T16:10:29.019002",
     "exception": false,
     "start_time": "2024-12-28T16:10:29.002546",
     "status": "completed"
    },
    "tags": []
   },
   "outputs": [
    {
     "name": "stdout",
     "output_type": "stream",
     "text": [
      "  Feature Id  Importances\n",
      "0        Sex    72.027809\n",
      "1     Pclass    25.946013\n",
      "2   Embarked     2.026178\n"
     ]
    }
   ],
   "source": [
    "feature_importance  = cat_model.get_feature_importance(prettified=True)\n",
    "print(feature_importance)"
   ]
  },
  {
   "cell_type": "code",
   "execution_count": 6,
   "id": "d433651f",
   "metadata": {
    "execution": {
     "iopub.execute_input": "2024-12-28T16:10:29.029191Z",
     "iopub.status.busy": "2024-12-28T16:10:29.028858Z",
     "iopub.status.idle": "2024-12-28T16:10:29.248995Z",
     "shell.execute_reply": "2024-12-28T16:10:29.247970Z"
    },
    "papermill": {
     "duration": 0.226968,
     "end_time": "2024-12-28T16:10:29.250629",
     "exception": false,
     "start_time": "2024-12-28T16:10:29.023661",
     "status": "completed"
    },
    "tags": []
   },
   "outputs": [
    {
     "data": {
      "image/png": "[encoded data removed]",
      "text/plain": [
       "<Figure size 640x480 with 1 Axes>"
      ]
     },
     "metadata": {},
     "output_type": "display_data"
    }
   ],
   "source": [
    "plt.barh(feature_importance['Feature Id'], feature_importance['Importances'])\n",
    "plt.xlabel('Importance')\n",
    "plt.ylabel('Feature')\n",
    "plt.title('Feature Importance')\n",
    "plt.show()"
   ]
  },
  {
   "cell_type": "markdown",
   "id": "384a46a2",
   "metadata": {
    "papermill": {
     "duration": 0.004308,
     "end_time": "2024-12-28T16:10:29.259620",
     "exception": false,
     "start_time": "2024-12-28T16:10:29.255312",
     "status": "completed"
    },
    "tags": []
   },
   "source": [
    "From this attempt we can conclude that the embarked feature is not relevant to the model. On the contrary Pclass shows some relevance in the decision making. In the next models we won't include the embarked feature."
   ]
  },
  {
   "cell_type": "markdown",
   "id": "129d0574",
   "metadata": {
    "papermill": {
     "duration": 0.004111,
     "end_time": "2024-12-28T16:10:29.268259",
     "exception": false,
     "start_time": "2024-12-28T16:10:29.264148",
     "status": "completed"
    },
    "tags": []
   },
   "source": [
    "#### CatBoostModel\n",
    "\n",
    "In this model all variables will be taken into account. We won´t include the embarked feature due to it's lack of relevance. Age won't be included due to the missing values."
   ]
  },
  {
   "cell_type": "code",
   "execution_count": 7,
   "id": "0b2a0c7d",
   "metadata": {
    "execution": {
     "iopub.execute_input": "2024-12-28T16:10:29.278220Z",
     "iopub.status.busy": "2024-12-28T16:10:29.277861Z",
     "iopub.status.idle": "2024-12-28T16:10:29.293055Z",
     "shell.execute_reply": "2024-12-28T16:10:29.291987Z"
    },
    "papermill": {
     "duration": 0.022015,
     "end_time": "2024-12-28T16:10:29.294600",
     "exception": false,
     "start_time": "2024-12-28T16:10:29.272585",
     "status": "completed"
    },
    "tags": []
   },
   "outputs": [
    {
     "name": "stdout",
     "output_type": "stream",
     "text": [
      "Lenght train_cat: 891\n"
     ]
    }
   ],
   "source": [
    "train = pd.read_csv(\"/kaggle/input/titanic/train.csv\")\n",
    "train_cat_2 = train[[\"Survived\", \"Pclass\", \"Sex\", \"SibSp\", \"Parch\", \"Fare\"]].copy()\n",
    "print(\"Lenght train_cat:\", len(train_cat_2))\n",
    "X_cat_2 = train_cat_2.drop('Survived', axis=1)\n",
    "y_cat_2 = train_cat_2['Survived']\n",
    "X_train_cat_2, X_temp_cat_2, y_train_cat_2, y_temp_cat_2 = train_test_split(X_cat_2, y_cat_2, test_size=0.3, random_state=42) #Separate train set\n",
    "X_val_cat_2, X_test_cat_2, y_val_cat_2, y_test_cat_2 = train_test_split(X_temp_cat_2, y_temp_cat_2, test_size=0.5, random_state=42) #Create validation and test set"
   ]
  },
  {
   "cell_type": "code",
   "execution_count": 8,
   "id": "00d75e6e",
   "metadata": {
    "execution": {
     "iopub.execute_input": "2024-12-28T16:10:29.305249Z",
     "iopub.status.busy": "2024-12-28T16:10:29.304943Z",
     "iopub.status.idle": "2024-12-28T16:10:29.407455Z",
     "shell.execute_reply": "2024-12-28T16:10:29.406247Z"
    },
    "papermill": {
     "duration": 0.109541,
     "end_time": "2024-12-28T16:10:29.408993",
     "exception": false,
     "start_time": "2024-12-28T16:10:29.299452",
     "status": "completed"
    },
    "tags": []
   },
   "outputs": [
    {
     "name": "stdout",
     "output_type": "stream",
     "text": [
      "Learning rate set to 0.028193\n",
      "0:\tlearn: 0.7849117\ttest: 0.8059701\tbest: 0.8059701 (0)\ttotal: 916us\tremaining: 916ms\n",
      "1:\tlearn: 0.8041734\ttest: 0.8208955\tbest: 0.8208955 (1)\ttotal: 2.22ms\tremaining: 1.11s\n",
      "2:\tlearn: 0.8073836\ttest: 0.8283582\tbest: 0.8283582 (2)\ttotal: 3.31ms\tremaining: 1.1s\n",
      "3:\tlearn: 0.8073836\ttest: 0.8283582\tbest: 0.8283582 (2)\ttotal: 4.1ms\tremaining: 1.02s\n",
      "4:\tlearn: 0.8073836\ttest: 0.8283582\tbest: 0.8283582 (2)\ttotal: 5.16ms\tremaining: 1.03s\n",
      "5:\tlearn: 0.8089888\ttest: 0.8208955\tbest: 0.8283582 (2)\ttotal: 6.27ms\tremaining: 1.04s\n",
      "6:\tlearn: 0.8057785\ttest: 0.8208955\tbest: 0.8283582 (2)\ttotal: 7.38ms\tremaining: 1.05s\n",
      "7:\tlearn: 0.8057785\ttest: 0.8208955\tbest: 0.8283582 (2)\ttotal: 8.49ms\tremaining: 1.05s\n",
      "8:\tlearn: 0.8105939\ttest: 0.8208955\tbest: 0.8283582 (2)\ttotal: 9.58ms\tremaining: 1.05s\n",
      "9:\tlearn: 0.8121990\ttest: 0.8208955\tbest: 0.8283582 (2)\ttotal: 10.4ms\tremaining: 1.03s\n",
      "10:\tlearn: 0.8121990\ttest: 0.8208955\tbest: 0.8283582 (2)\ttotal: 11.5ms\tremaining: 1.03s\n",
      "11:\tlearn: 0.8138042\ttest: 0.8208955\tbest: 0.8283582 (2)\ttotal: 12.5ms\tremaining: 1.03s\n",
      "12:\tlearn: 0.8154093\ttest: 0.8208955\tbest: 0.8283582 (2)\ttotal: 13.4ms\tremaining: 1.02s\n",
      "13:\tlearn: 0.8154093\ttest: 0.8208955\tbest: 0.8283582 (2)\ttotal: 14.5ms\tremaining: 1.02s\n",
      "14:\tlearn: 0.8186196\ttest: 0.8208955\tbest: 0.8283582 (2)\ttotal: 15.6ms\tremaining: 1.02s\n",
      "15:\tlearn: 0.8186196\ttest: 0.8208955\tbest: 0.8283582 (2)\ttotal: 16.4ms\tremaining: 1.01s\n",
      "16:\tlearn: 0.8121990\ttest: 0.8208955\tbest: 0.8283582 (2)\ttotal: 17.4ms\tremaining: 1.01s\n",
      "17:\tlearn: 0.8121990\ttest: 0.8208955\tbest: 0.8283582 (2)\ttotal: 18.6ms\tremaining: 1.02s\n",
      "18:\tlearn: 0.8121990\ttest: 0.8208955\tbest: 0.8283582 (2)\ttotal: 19.6ms\tremaining: 1.01s\n",
      "19:\tlearn: 0.8121990\ttest: 0.8208955\tbest: 0.8283582 (2)\ttotal: 20.7ms\tremaining: 1.01s\n",
      "20:\tlearn: 0.8121990\ttest: 0.8208955\tbest: 0.8283582 (2)\ttotal: 21.5ms\tremaining: 1s\n",
      "21:\tlearn: 0.8121990\ttest: 0.8208955\tbest: 0.8283582 (2)\ttotal: 22.6ms\tremaining: 1s\n",
      "22:\tlearn: 0.8121990\ttest: 0.8208955\tbest: 0.8283582 (2)\ttotal: 23.6ms\tremaining: 1s\n",
      "23:\tlearn: 0.8121990\ttest: 0.8208955\tbest: 0.8283582 (2)\ttotal: 24.5ms\tremaining: 998ms\n",
      "24:\tlearn: 0.8121990\ttest: 0.8208955\tbest: 0.8283582 (2)\ttotal: 25.3ms\tremaining: 986ms\n",
      "25:\tlearn: 0.8121990\ttest: 0.8208955\tbest: 0.8283582 (2)\ttotal: 26.1ms\tremaining: 976ms\n",
      "26:\tlearn: 0.8121990\ttest: 0.8208955\tbest: 0.8283582 (2)\ttotal: 27ms\tremaining: 972ms\n",
      "27:\tlearn: 0.8121990\ttest: 0.8208955\tbest: 0.8283582 (2)\ttotal: 27.6ms\tremaining: 958ms\n",
      "28:\tlearn: 0.8121990\ttest: 0.8208955\tbest: 0.8283582 (2)\ttotal: 28.4ms\tremaining: 949ms\n",
      "29:\tlearn: 0.8186196\ttest: 0.8208955\tbest: 0.8283582 (2)\ttotal: 29.4ms\tremaining: 951ms\n",
      "30:\tlearn: 0.8186196\ttest: 0.8208955\tbest: 0.8283582 (2)\ttotal: 30.5ms\tremaining: 954ms\n",
      "31:\tlearn: 0.8186196\ttest: 0.8208955\tbest: 0.8283582 (2)\ttotal: 31.7ms\tremaining: 958ms\n",
      "32:\tlearn: 0.8186196\ttest: 0.8208955\tbest: 0.8283582 (2)\ttotal: 32.7ms\tremaining: 959ms\n",
      "33:\tlearn: 0.8186196\ttest: 0.8208955\tbest: 0.8283582 (2)\ttotal: 33.6ms\tremaining: 955ms\n",
      "34:\tlearn: 0.8186196\ttest: 0.8208955\tbest: 0.8283582 (2)\ttotal: 34.4ms\tremaining: 948ms\n",
      "35:\tlearn: 0.8186196\ttest: 0.8208955\tbest: 0.8283582 (2)\ttotal: 35.4ms\tremaining: 949ms\n",
      "36:\tlearn: 0.8186196\ttest: 0.8208955\tbest: 0.8283582 (2)\ttotal: 36.5ms\tremaining: 949ms\n",
      "37:\tlearn: 0.8218299\ttest: 0.8283582\tbest: 0.8283582 (2)\ttotal: 37.4ms\tremaining: 946ms\n",
      "38:\tlearn: 0.8218299\ttest: 0.8283582\tbest: 0.8283582 (2)\ttotal: 38.4ms\tremaining: 947ms\n",
      "39:\tlearn: 0.8186196\ttest: 0.8208955\tbest: 0.8283582 (2)\ttotal: 39.5ms\tremaining: 948ms\n",
      "40:\tlearn: 0.8202247\ttest: 0.8208955\tbest: 0.8283582 (2)\ttotal: 40.6ms\tremaining: 950ms\n",
      "41:\tlearn: 0.8202247\ttest: 0.8208955\tbest: 0.8283582 (2)\ttotal: 41.2ms\tremaining: 941ms\n",
      "42:\tlearn: 0.8218299\ttest: 0.8283582\tbest: 0.8283582 (2)\ttotal: 42.1ms\tremaining: 937ms\n",
      "43:\tlearn: 0.8202247\ttest: 0.8208955\tbest: 0.8283582 (2)\ttotal: 43ms\tremaining: 935ms\n",
      "44:\tlearn: 0.8282504\ttest: 0.8208955\tbest: 0.8283582 (2)\ttotal: 44.1ms\tremaining: 935ms\n",
      "45:\tlearn: 0.8298555\ttest: 0.8208955\tbest: 0.8283582 (2)\ttotal: 44.9ms\tremaining: 930ms\n",
      "46:\tlearn: 0.8266453\ttest: 0.8208955\tbest: 0.8283582 (2)\ttotal: 45.5ms\tremaining: 922ms\n",
      "47:\tlearn: 0.8266453\ttest: 0.8208955\tbest: 0.8283582 (2)\ttotal: 46.6ms\tremaining: 924ms\n",
      "48:\tlearn: 0.8266453\ttest: 0.8208955\tbest: 0.8283582 (2)\ttotal: 47.7ms\tremaining: 925ms\n",
      "49:\tlearn: 0.8266453\ttest: 0.8283582\tbest: 0.8283582 (2)\ttotal: 48.8ms\tremaining: 928ms\n",
      "50:\tlearn: 0.8266453\ttest: 0.8283582\tbest: 0.8283582 (2)\ttotal: 50ms\tremaining: 929ms\n",
      "51:\tlearn: 0.8266453\ttest: 0.8283582\tbest: 0.8283582 (2)\ttotal: 50.9ms\tremaining: 928ms\n",
      "52:\tlearn: 0.8266453\ttest: 0.8283582\tbest: 0.8283582 (2)\ttotal: 52ms\tremaining: 928ms\n",
      "Stopped by overfitting detector  (50 iterations wait)\n",
      "\n",
      "bestTest = 0.828358209\n",
      "bestIteration = 2\n",
      "\n",
      "Shrink model to first 3 iterations.\n"
     ]
    },
    {
     "data": {
      "text/plain": [
       "<catboost.core.CatBoostClassifier at 0x7c46a0170640>"
      ]
     },
     "execution_count": 8,
     "metadata": {},
     "output_type": "execute_result"
    }
   ],
   "source": [
    "cat_features =[\"Sex\"]\n",
    "train_pool_cat_2 = Pool(data=X_train_cat_2, label=y_train_cat_2, cat_features=cat_features)\n",
    "val_pool_cat_2 = Pool(data=X_val_cat_2, label=y_val_cat_2, cat_features=cat_features)\n",
    "#Pool is a data container that contains the training dataset, \n",
    "#along with optionally the target variable and details about the categorical features\n",
    "cat_model_2 = CatBoostClassifier(eval_metric='Accuracy',\n",
    "                               random_seed=42,\n",
    "                               cat_features=cat_features,\n",
    "                               verbose=50,\n",
    "                               early_stopping_rounds=50\n",
    "                              )\n",
    "cat_model_2.fit(train_pool_cat_2, eval_set=val_pool_cat_2, verbose=True)"
   ]
  },
  {
   "cell_type": "code",
   "execution_count": 9,
   "id": "6386bb92",
   "metadata": {
    "execution": {
     "iopub.execute_input": "2024-12-28T16:10:29.419618Z",
     "iopub.status.busy": "2024-12-28T16:10:29.419295Z",
     "iopub.status.idle": "2024-12-28T16:10:29.431264Z",
     "shell.execute_reply": "2024-12-28T16:10:29.430086Z"
    },
    "papermill": {
     "duration": 0.018871,
     "end_time": "2024-12-28T16:10:29.432696",
     "exception": false,
     "start_time": "2024-12-28T16:10:29.413825",
     "status": "completed"
    },
    "tags": []
   },
   "outputs": [
    {
     "name": "stdout",
     "output_type": "stream",
     "text": [
      "              precision    recall  f1-score   support\n",
      "\n",
      "           0       0.83      0.87      0.85        87\n",
      "           1       0.74      0.66      0.70        47\n",
      "\n",
      "    accuracy                           0.80       134\n",
      "   macro avg       0.78      0.77      0.77       134\n",
      "weighted avg       0.80      0.80      0.80       134\n",
      "\n"
     ]
    }
   ],
   "source": [
    "y_pred_cat_2 = cat_model_2.predict(X_test_cat_2)\n",
    "print(classification_report(y_test_cat_2, y_pred_cat_2))"
   ]
  },
  {
   "cell_type": "code",
   "execution_count": 10,
   "id": "713ec173",
   "metadata": {
    "execution": {
     "iopub.execute_input": "2024-12-28T16:10:29.443531Z",
     "iopub.status.busy": "2024-12-28T16:10:29.443255Z",
     "iopub.status.idle": "2024-12-28T16:10:29.641629Z",
     "shell.execute_reply": "2024-12-28T16:10:29.640648Z"
    },
    "papermill": {
     "duration": 0.205345,
     "end_time": "2024-12-28T16:10:29.643098",
     "exception": false,
     "start_time": "2024-12-28T16:10:29.437753",
     "status": "completed"
    },
    "tags": []
   },
   "outputs": [
    {
     "name": "stdout",
     "output_type": "stream",
     "text": [
      "  Feature Id  Importances\n",
      "0        Sex    73.839235\n",
      "1     Pclass    20.981651\n",
      "2       Fare     1.797719\n",
      "3      SibSp     1.755459\n",
      "4      Parch     1.625936\n"
     ]
    },
    {
     "data": {
      "image/png": "[encoded data removed]",
      "text/plain": [
       "<Figure size 640x480 with 1 Axes>"
      ]
     },
     "metadata": {},
     "output_type": "display_data"
    }
   ],
   "source": [
    "feature_importance  = cat_model_2.get_feature_importance(prettified=True)\n",
    "print(feature_importance)\n",
    "\n",
    "plt.barh(feature_importance['Feature Id'], feature_importance['Importances'])\n",
    "plt.xlabel('Importance')\n",
    "plt.ylabel('Feature')\n",
    "plt.title('Feature Importance')\n",
    "plt.show()"
   ]
  },
  {
   "cell_type": "markdown",
   "id": "9a1d5f46",
   "metadata": {
    "papermill": {
     "duration": 0.005229,
     "end_time": "2024-12-28T16:10:29.653827",
     "exception": false,
     "start_time": "2024-12-28T16:10:29.648598",
     "status": "completed"
    },
    "tags": []
   },
   "source": [
    "The results improve in the validation set, but in the test set, the results were the same in terms of accuracy.\n",
    "\n",
    "As the previous model, Sex and Pclass are the most important features. The rest of the features are not relevant and as the results don't change in a significant way it's possible to remove them.\n",
    "\n",
    "In the next model the age will be added in two ways, removing the missing fields and imputating the missing fields."
   ]
  },
  {
   "cell_type": "markdown",
   "id": "8c1f54bd",
   "metadata": {
    "papermill": {
     "duration": 0.005039,
     "end_time": "2024-12-28T16:10:29.664182",
     "exception": false,
     "start_time": "2024-12-28T16:10:29.659143",
     "status": "completed"
    },
    "tags": []
   },
   "source": [
    "Tiempo estimado hasta aquí: ~1 hour"
   ]
  },
  {
   "cell_type": "code",
   "execution_count": null,
   "id": "bdaefd9f",
   "metadata": {
    "papermill": {
     "duration": 0.005085,
     "end_time": "2024-12-28T16:10:29.674466",
     "exception": false,
     "start_time": "2024-12-28T16:10:29.669381",
     "status": "completed"
    },
    "tags": []
   },
   "outputs": [],
   "source": []
  }
 ],
 "metadata": {
  "kaggle": {
   "accelerator": "none",
   "dataSources": [
    {
     "databundleVersionId": 26502,
     "sourceId": 3136,
     "sourceType": "competition"
    }
   ],
   "dockerImageVersionId": 30822,
   "isGpuEnabled": false,
   "isInternetEnabled": true,
   "language": "python",
   "sourceType": "notebook"
  },
  "kernelspec": {
   "display_name": "Python 3",
   "language": "python",
   "name": "python3"
  },
  "language_info": {
   "codemirror_mode": {
    "name": "ipython",
    "version": 3
   },
   "file_extension": ".py",
   "mimetype": "text/x-python",
   "name": "python",
   "nbconvert_exporter": "python",
   "pygments_lexer": "ipython3",
   "version": "3.10.12"
  },
  "papermill": {
   "default_parameters": {},
   "duration": 5.870828,
   "end_time": "2024-12-28T16:10:30.298283",
   "environment_variables": {},
   "exception": null,
   "input_path": "__notebook__.ipynb",
   "output_path": "__notebook__.ipynb",
   "parameters": {},
   "start_time": "2024-12-28T16:10:24.427455",
   "version": "2.6.0"
  }
 },
 "nbformat": 4,
 "nbformat_minor": 5
}
